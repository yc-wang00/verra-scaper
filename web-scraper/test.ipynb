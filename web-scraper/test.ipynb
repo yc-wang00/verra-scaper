{
 "cells": [
  {
   "cell_type": "code",
   "execution_count": 74,
   "metadata": {},
   "outputs": [],
   "source": [
    "import pandas as pd \n",
    "from bs4 import BeautifulSoup\n",
    "\n",
    "def extract_text(html_string):\n",
    "    # Parse the HTML content\n",
    "    soup = BeautifulSoup(html_string, 'html.parser')\n",
    "\n",
    "    # Extract text from parsed HTML\n",
    "    return soup.get_text()\n",
    "\n",
    "\n",
    "df = pd.read_excel(\"data/registered.xlsx\", sheet_name=\"Results\")\n",
    "\n",
    "# Convert Timestamps to strings in datetime columns\n",
    "datetime_columns = df.select_dtypes(include=['datetime']).columns\n",
    "df[datetime_columns] = df[datetime_columns].apply(lambda x: x.dt.strftime('%Y-%m-%d') if not pd.isnull(x).all() else x)\n",
    "df = df.where(pd.notnull(df), None)"
   ]
  },
  {
   "cell_type": "code",
   "execution_count": 83,
   "metadata": {},
   "outputs": [],
   "source": [
    "\"\"\"['ID', 'Name', 'Proponent', 'Project Type', 'AFOLU Activities',\n",
    "    'Methodology', 'Status', 'Country/Area',\n",
    "    'Estimated Annual Emission Reductions', 'Region',\n",
    "    'Project Registration Date', 'Crediting Period Start Date',\n",
    "    'Crediting Period End Date'\n",
    "\"\"\"\n",
    "\n",
    "df.rename(columns={\n",
    "    'ID': 'project_id',\n",
    "    'Name': 'name',\n",
    "    'Proponent': 'proponent',\n",
    "    'Project Type': 'project_type',\n",
    "    'AFOLU Activities': 'afolu_activities',\n",
    "    'Methodology': 'methodology',\n",
    "    'Status': 'status',\n",
    "    'Country/Area': 'country_area',\n",
    "    'Estimated Annual Emission Reductions': 'estimated_annual_emission_reductions',\n",
    "    'Region': 'region',\n",
    "    'Project Registration Date': 'project_registration_date',\n",
    "    'Crediting Period Start Date': 'crediting_period_start_date',\n",
    "    'Crediting Period End Date': 'crediting_period_end_date'\n",
    "}, inplace=True)"
   ]
  },
  {
   "cell_type": "code",
   "execution_count": 84,
   "metadata": {},
   "outputs": [],
   "source": [
    "json_output = {}\n",
    "\n",
    "# iterate over two columns, id and name zip them\n",
    "for json_object in df.to_dict('records'):\n",
    "    id = json_object['project_id']\n",
    "    name = json_object['name']\n",
    "\n",
    "    try:\n",
    "        with open(f\"data/registered/{id}.txt\", 'r', encoding='utf-8') as file:\n",
    "            html_content = file.read()\n",
    "\n",
    "        # Extracting the text\n",
    "        extracted_text = extract_text(html_content)\n",
    "\n",
    "        json_object['text'] = extracted_text\n",
    "    except Exception:\n",
    "        print(f\"Error with {id}\")\n",
    "        continue\n",
    "\n",
    "\n",
    "    json_output[id] = json_object\n",
    "    "
   ]
  },
  {
   "cell_type": "code",
   "execution_count": null,
   "metadata": {},
   "outputs": [],
   "source": []
  },
  {
   "cell_type": "code",
   "execution_count": 85,
   "metadata": {},
   "outputs": [],
   "source": [
    "import json\n",
    "with open('data/clean_registered.json', 'w') as fp:\n",
    "    json.dump(json_output, fp, indent=4, sort_keys=True)"
   ]
  },
  {
   "cell_type": "code",
   "execution_count": 86,
   "metadata": {},
   "outputs": [],
   "source": [
    "\n",
    "# Importing necessary modules for the Weaviate script\n",
    "import weaviate\n",
    "\n",
    "# Replace with your Weaviate instance URL\n",
    "WEAVIATE_URL = \"http://localhost:8080\"\n",
    "\n",
    "def setup_weaviate_connection():\n",
    "    \"\"\" Setup the connection to the Weaviate instance \"\"\"\n",
    "    client = weaviate.Client(url=WEAVIATE_URL)\n",
    "    return client\n",
    "\n",
    "\n",
    "def import_data_to_weaviate(client, data):\n",
    "    \"\"\" Import the prepared data into Weaviate \"\"\"\n",
    "    for obj in data:\n",
    "        try:\n",
    "            client.data_object.create(data_object=obj, class_name=\"Registed_Metadata\")\n",
    "        except Exception as e:\n",
    "            print(f\"Error importing object with ID {obj['project_id']}: {str(e)}\")\n"
   ]
  },
  {
   "cell_type": "code",
   "execution_count": 87,
   "metadata": {},
   "outputs": [],
   "source": [
    "client = setup_weaviate_connection()\n",
    "import_data_to_weaviate(client, json_output.values())"
   ]
  },
  {
   "cell_type": "code",
   "execution_count": 90,
   "metadata": {},
   "outputs": [],
   "source": [
    "\n",
    "def query_by_project_id(client, project_id):\n",
    "    \"\"\"\n",
    "    Query data by project_id in Weaviate.\n",
    "\n",
    "    Parameters:\n",
    "    client_url (str): URL of the Weaviate instance.\n",
    "    project_id (int): The project_id to query for.\n",
    "\n",
    "    Returns:\n",
    "    dict: The query result.\n",
    "    \"\"\"\n",
    "\n",
    "    query = \"\"\"\n",
    "    {\n",
    "        Get {\n",
    "            TEST(where: {path: [\"project_id\"], operator: Equal, valueNumber: %d}) {\n",
    "                crediting_period_end_date\n",
    "                project_type\n",
    "                status\n",
    "                estimated_annual_emission_reductions\n",
    "                region\n",
    "                crediting_period_start_date\n",
    "                afolu_activities\n",
    "                methodology\n",
    "                text\n",
    "                project_id\n",
    "                name\n",
    "                proponent\n",
    "                country_area\n",
    "                project_registration_date\n",
    "            }\n",
    "        }\n",
    "    }\n",
    "    \"\"\" % project_id\n",
    "\n",
    "    return client.query.raw(query)\n"
   ]
  },
  {
   "cell_type": "code",
   "execution_count": 91,
   "metadata": {},
   "outputs": [
    {
     "data": {
      "text/plain": [
       "{'data': {'Get': {'TEST': [{'afolu_activities': None,\n",
       "     'country_area': 'India',\n",
       "     'crediting_period_end_date': None,\n",
       "     'crediting_period_start_date': None,\n",
       "     'estimated_annual_emission_reductions': 13331,\n",
       "     'methodology': 'AMS-I.D.',\n",
       "     'name': '7.25 MW wind energy project of Aruppukottai Sri Jayavilas Ltd',\n",
       "     'project_id': 1,\n",
       "     'project_registration_date': '2009-03-17',\n",
       "     'project_type': 'Energy industries (renewable/non-renewable sources)',\n",
       "     'proponent': 'Aruppukottai Sri Jayavilas Limited',\n",
       "     'region': 'Asia',\n",
       "     'status': 'Late to verify',\n",
       "     'text': 'The project activity consists of 17 wind turbine generators (WTGs) in Tirunelveli district of Tamil Nadu state in India. The project activity has 5 WTGs of 850 kW and 12 WTGs of 250 kW.'}]}}}"
      ]
     },
     "execution_count": 91,
     "metadata": {},
     "output_type": "execute_result"
    }
   ],
   "source": [
    "query_by_project_id(client, 1)"
   ]
  },
  {
   "cell_type": "code",
   "execution_count": null,
   "metadata": {},
   "outputs": [],
   "source": []
  }
 ],
 "metadata": {
  "kernelspec": {
   "display_name": "base",
   "language": "python",
   "name": "python3"
  },
  "language_info": {
   "codemirror_mode": {
    "name": "ipython",
    "version": 3
   },
   "file_extension": ".py",
   "mimetype": "text/x-python",
   "name": "python",
   "nbconvert_exporter": "python",
   "pygments_lexer": "ipython3",
   "version": "3.11.5"
  }
 },
 "nbformat": 4,
 "nbformat_minor": 2
}
